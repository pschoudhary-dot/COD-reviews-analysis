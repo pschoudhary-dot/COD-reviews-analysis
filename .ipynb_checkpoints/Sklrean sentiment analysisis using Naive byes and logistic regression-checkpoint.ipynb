{
 "cells": [
  {
   "cell_type": "code",
   "execution_count": 1,
   "id": "2ca997bf-f0b2-4141-9762-5cae2297f12b",
   "metadata": {},
   "outputs": [],
   "source": [
    "import numpy as np\n",
    "import pandas as pd \n",
    "import os\n",
    "import re\n",
    "import nltk\n",
    "from nltk.corpus import stopwords\n",
    "from nltk.tokenize import word_tokenize\n",
    "from nltk.stem import WordNetLemmatizer\n",
    "import pickle\n",
    "from sklearn.model_selection import train_test_split\n",
    "from sklearn.feature_extraction.text import TfidfVectorizer\n",
    "from sklearn.naive_bayes import MultinomialNB\n",
    "from sklearn.linear_model import LogisticRegression\n",
    "from sklearn.metrics import classification_report, accuracy_score"
   ]
  },
  {
   "cell_type": "code",
   "execution_count": 2,
   "id": "731c7432-cb17-4c7d-aff5-16d0bf687cef",
   "metadata": {},
   "outputs": [
    {
     "name": "stderr",
     "output_type": "stream",
     "text": [
      "[nltk_data] Downloading package stopwords to\n",
      "[nltk_data]     C:\\Users\\ADMIN\\AppData\\Roaming\\nltk_data...\n",
      "[nltk_data]   Package stopwords is already up-to-date!\n",
      "[nltk_data] Downloading package punkt to\n",
      "[nltk_data]     C:\\Users\\ADMIN\\AppData\\Roaming\\nltk_data...\n",
      "[nltk_data]   Package punkt is already up-to-date!\n",
      "[nltk_data] Downloading package wordnet to\n",
      "[nltk_data]     C:\\Users\\ADMIN\\AppData\\Roaming\\nltk_data...\n",
      "[nltk_data]   Package wordnet is already up-to-date!\n"
     ]
    },
    {
     "data": {
      "text/plain": [
       "True"
      ]
     },
     "execution_count": 2,
     "metadata": {},
     "output_type": "execute_result"
    }
   ],
   "source": [
    "nltk.download('stopwords')\n",
    "nltk.download('punkt')\n",
    "nltk.download('wordnet')"
   ]
  },
  {
   "cell_type": "code",
   "execution_count": 3,
   "id": "cc6eab47-b7e8-4077-9e02-4cdf21029853",
   "metadata": {},
   "outputs": [],
   "source": [
    "df = pd.read_csv('./call_of_duty_reviews_50000.csv')\n",
    "df.head()\n",
    "\n",
    "def preprocess_text(text):\n",
    "    text = text.lower()\n",
    "    text = re.sub(r'http\\S+|www\\S+|https\\S+', '', text)\n",
    "    text = re.sub(r'[^a-zA-Z\\s]', '', text)\n",
    "    words = word_tokenize(text)\n",
    "    stop_words = set(stopwords.words('english'))\n",
    "    words = [word for word in words if word not in stop_words]\n",
    "    lemmatizer = WordNetLemmatizer()\n",
    "    words = [lemmatizer.lemmatize(word) for word in words]\n",
    "    return ' '.join(words)\n",
    "\n",
    "df['content'] = df['content'].apply(preprocess_text)"
   ]
  },
  {
   "cell_type": "code",
   "execution_count": 4,
   "id": "9b2f090e-f0bc-4d13-9b3a-f8e1b0015c50",
   "metadata": {},
   "outputs": [
    {
     "data": {
      "text/html": [
       "<div>\n",
       "<style scoped>\n",
       "    .dataframe tbody tr th:only-of-type {\n",
       "        vertical-align: middle;\n",
       "    }\n",
       "\n",
       "    .dataframe tbody tr th {\n",
       "        vertical-align: top;\n",
       "    }\n",
       "\n",
       "    .dataframe thead th {\n",
       "        text-align: right;\n",
       "    }\n",
       "</style>\n",
       "<table border=\"1\" class=\"dataframe\">\n",
       "  <thead>\n",
       "    <tr style=\"text-align: right;\">\n",
       "      <th></th>\n",
       "      <th>userName</th>\n",
       "      <th>content</th>\n",
       "      <th>score</th>\n",
       "      <th>sentiment</th>\n",
       "    </tr>\n",
       "  </thead>\n",
       "  <tbody>\n",
       "    <tr>\n",
       "      <th>0</th>\n",
       "      <td>User101</td>\n",
       "      <td>best mobile game ever</td>\n",
       "      <td>5</td>\n",
       "      <td>positive</td>\n",
       "    </tr>\n",
       "    <tr>\n",
       "      <th>1</th>\n",
       "      <td>User102</td>\n",
       "      <td>really good game im going rate ad thank god v ...</td>\n",
       "      <td>5</td>\n",
       "      <td>positive</td>\n",
       "    </tr>\n",
       "    <tr>\n",
       "      <th>2</th>\n",
       "      <td>User103</td>\n",
       "      <td>call duty mobile interesting game gaming mostl...</td>\n",
       "      <td>5</td>\n",
       "      <td>positive</td>\n",
       "    </tr>\n",
       "    <tr>\n",
       "      <th>3</th>\n",
       "      <td>User104</td>\n",
       "      <td>love game entirety thing dont like censorship ...</td>\n",
       "      <td>3</td>\n",
       "      <td>neutral</td>\n",
       "    </tr>\n",
       "    <tr>\n",
       "      <th>4</th>\n",
       "      <td>User105</td>\n",
       "      <td>unplayable size portable update huge still mak...</td>\n",
       "      <td>1</td>\n",
       "      <td>negative</td>\n",
       "    </tr>\n",
       "  </tbody>\n",
       "</table>\n",
       "</div>"
      ],
      "text/plain": [
       "  userName                                            content  score sentiment\n",
       "0  User101                              best mobile game ever      5  positive\n",
       "1  User102  really good game im going rate ad thank god v ...      5  positive\n",
       "2  User103  call duty mobile interesting game gaming mostl...      5  positive\n",
       "3  User104  love game entirety thing dont like censorship ...      3   neutral\n",
       "4  User105  unplayable size portable update huge still mak...      1  negative"
      ]
     },
     "execution_count": 4,
     "metadata": {},
     "output_type": "execute_result"
    }
   ],
   "source": [
    "def assign_sentiment_label(score):\n",
    "    if score >= 4:\n",
    "        return 'positive'\n",
    "    elif score == 3:\n",
    "        return 'neutral'\n",
    "    else:\n",
    "        return 'negative'\n",
    "\n",
    "# Apply the sentiment labeling\n",
    "df['sentiment'] = df['score'].apply(assign_sentiment_label)\n",
    "df.head()"
   ]
  },
  {
   "cell_type": "code",
   "execution_count": 29,
   "id": "ee82471e-56c2-419a-81fb-89abec141d1a",
   "metadata": {},
   "outputs": [
    {
     "data": {
      "text/plain": [
       "(50000, 4)"
      ]
     },
     "execution_count": 29,
     "metadata": {},
     "output_type": "execute_result"
    }
   ],
   "source": [
    "df.shape"
   ]
  },
  {
   "cell_type": "code",
   "execution_count": 31,
   "id": "d17e75a0-51fc-41ca-8f90-798e2f2720a0",
   "metadata": {},
   "outputs": [
    {
     "data": {
      "text/plain": [
       "userName     0\n",
       "content      0\n",
       "score        0\n",
       "sentiment    0\n",
       "dtype: int64"
      ]
     },
     "execution_count": 31,
     "metadata": {},
     "output_type": "execute_result"
    }
   ],
   "source": [
    "df.isnull().sum()"
   ]
  },
  {
   "cell_type": "code",
   "execution_count": 5,
   "id": "52787322-906f-46ec-8233-c977422c85b3",
   "metadata": {},
   "outputs": [],
   "source": [
    "# (X) and labels (y)\n",
    "X = df['content']\n",
    "y = df['sentiment']\n",
    "\n",
    "# 70% train, 30% test\n",
    "X_train, X_test, y_train, y_test = train_test_split(X, y, test_size=0.3, random_state=42)"
   ]
  },
  {
   "cell_type": "code",
   "execution_count": 6,
   "id": "00f35674-8116-455c-a8b4-a357436aef33",
   "metadata": {},
   "outputs": [
    {
     "data": {
      "text/plain": [
       "38094    call duty mobile season best game world want s...\n",
       "40624    keep logging account every update short circui...\n",
       "49425                                           game liked\n",
       "35734                                      worst game ever\n",
       "41708    play people pay weapon get super nerfed people...\n",
       "                               ...                        \n",
       "11284                                             love cod\n",
       "44732    little christmas money went buy cod point game...\n",
       "38158    game outstanding nowadays face problem auto cl...\n",
       "860                                 best mobile game world\n",
       "15795    download got started show happens got download...\n",
       "Name: content, Length: 35000, dtype: object"
      ]
     },
     "execution_count": 6,
     "metadata": {},
     "output_type": "execute_result"
    }
   ],
   "source": [
    "X_train"
   ]
  },
  {
   "cell_type": "code",
   "execution_count": 7,
   "id": "abd40054-10b8-4482-be4f-4415215f697c",
   "metadata": {},
   "outputs": [
    {
     "data": {
      "text/plain": [
       "33553    game used best ive always loyal codm sometimes...\n",
       "9427                    best mobile game ever cp expensive\n",
       "199      gone hill fast try joining game hasnt started ...\n",
       "12447                                     competitive game\n",
       "39489    thr best game ever given star cuz sometimes tg...\n",
       "                               ...                        \n",
       "15168                                          outstanding\n",
       "49241    anyone help reset login detail since last upda...\n",
       "39317    please solve network errror problem even speed...\n",
       "42191                                                     \n",
       "15109    call duty mobile interesting game gaming mostl...\n",
       "Name: content, Length: 15000, dtype: object"
      ]
     },
     "execution_count": 7,
     "metadata": {},
     "output_type": "execute_result"
    }
   ],
   "source": [
    " X_test"
   ]
  },
  {
   "cell_type": "code",
   "execution_count": 8,
   "id": "4ade1a93-3096-449d-a8b4-ca41aab2928c",
   "metadata": {},
   "outputs": [
    {
     "data": {
      "text/plain": [
       "38094    positive\n",
       "40624     neutral\n",
       "49425    positive\n",
       "35734    negative\n",
       "41708    negative\n",
       "           ...   \n",
       "11284    positive\n",
       "44732    positive\n",
       "38158    positive\n",
       "860      positive\n",
       "15795    negative\n",
       "Name: sentiment, Length: 35000, dtype: object"
      ]
     },
     "execution_count": 8,
     "metadata": {},
     "output_type": "execute_result"
    }
   ],
   "source": [
    "y_train"
   ]
  },
  {
   "cell_type": "code",
   "execution_count": 9,
   "id": "fbc982f4-df8e-4d97-b393-07bda2a888e1",
   "metadata": {},
   "outputs": [
    {
     "data": {
      "text/plain": [
       "33553    negative\n",
       "9427     positive\n",
       "199      negative\n",
       "12447    positive\n",
       "39489     neutral\n",
       "           ...   \n",
       "15168    positive\n",
       "49241    positive\n",
       "39317    negative\n",
       "42191    positive\n",
       "15109    positive\n",
       "Name: sentiment, Length: 15000, dtype: object"
      ]
     },
     "execution_count": 9,
     "metadata": {},
     "output_type": "execute_result"
    }
   ],
   "source": [
    " y_test"
   ]
  },
  {
   "cell_type": "code",
   "execution_count": 10,
   "id": "167ad8f5-e13d-492f-8345-217524ba12a4",
   "metadata": {},
   "outputs": [
    {
     "data": {
      "text/plain": [
       "(<35000x561 sparse matrix of type '<class 'numpy.float64'>'\n",
       " \twith 343552 stored elements in Compressed Sparse Row format>,\n",
       " <15000x561 sparse matrix of type '<class 'numpy.float64'>'\n",
       " \twith 149280 stored elements in Compressed Sparse Row format>)"
      ]
     },
     "execution_count": 10,
     "metadata": {},
     "output_type": "execute_result"
    }
   ],
   "source": [
    "# Initialize TF-IDF Vectorizer\n",
    "vectorizer = TfidfVectorizer(max_features=5000)\n",
    "X_train_tfidf = vectorizer.fit_transform(X_train)\n",
    "X_test_tfidf = vectorizer.transform(X_test)\n",
    "X_train_tfidf, X_test_tfidf"
   ]
  },
  {
   "cell_type": "code",
   "execution_count": 11,
   "id": "182dbb30-a1f7-4575-884b-0869233eb0ab",
   "metadata": {},
   "outputs": [
    {
     "name": "stdout",
     "output_type": "stream",
     "text": [
      "Naive Bayes Classification Report:\n",
      "              precision    recall  f1-score   support\n",
      "\n",
      "    negative       1.00      0.98      0.99      3830\n",
      "     neutral       1.00      1.00      1.00      1331\n",
      "    positive       0.99      1.00      1.00      9839\n",
      "\n",
      "    accuracy                           0.99     15000\n",
      "   macro avg       1.00      0.99      1.00     15000\n",
      "weighted avg       0.99      0.99      0.99     15000\n",
      "\n",
      "Naive Bayes Accuracy: 99.47%\n"
     ]
    }
   ],
   "source": [
    "# Initialize Naive Bayes classifier\n",
    "nb_model = MultinomialNB()\n",
    "nb_model.fit(X_train_tfidf, y_train)\n",
    "y_pred_nb = nb_model.predict(X_test_tfidf)\n",
    "accuracy_nb = accuracy_score(y_test, y_pred_nb)\n",
    "print(\"Naive Bayes Classification Report:\")\n",
    "print(classification_report(y_test, y_pred_nb))\n",
    "print(f\"Naive Bayes Accuracy: {accuracy_nb * 100:.2f}%\")"
   ]
  },
  {
   "cell_type": "code",
   "execution_count": 12,
   "id": "4adc9ad8-589f-4312-b20c-4d4de1ee54ff",
   "metadata": {},
   "outputs": [
    {
     "name": "stdout",
     "output_type": "stream",
     "text": [
      "Logistic Regression Classification Report:\n",
      "              precision    recall  f1-score   support\n",
      "\n",
      "    negative       1.00      1.00      1.00      3830\n",
      "     neutral       1.00      1.00      1.00      1331\n",
      "    positive       1.00      1.00      1.00      9839\n",
      "\n",
      "    accuracy                           1.00     15000\n",
      "   macro avg       1.00      1.00      1.00     15000\n",
      "weighted avg       1.00      1.00      1.00     15000\n",
      "\n",
      "Logistic Regression Accuracy: 100.00%\n"
     ]
    }
   ],
   "source": [
    "# Initialize Logistic Regression classifier\n",
    "lr_model = LogisticRegression(max_iter=1000)\n",
    "lr_model.fit(X_train_tfidf, y_train)\n",
    "y_pred_lr = lr_model.predict(X_test_tfidf)\n",
    "accuracy_lr = accuracy_score(y_test, y_pred_lr)\n",
    "print(\"Logistic Regression Classification Report:\")\n",
    "print(classification_report(y_test, y_pred_lr))\n",
    "print(f\"Logistic Regression Accuracy: {accuracy_lr * 100:.2f}%\")"
   ]
  },
  {
   "cell_type": "code",
   "execution_count": 13,
   "id": "f5231e29-cf1d-4d3e-9617-a46f751e63c6",
   "metadata": {},
   "outputs": [
    {
     "name": "stdout",
     "output_type": "stream",
     "text": [
      "Models and vectorizer saved successfully!\n"
     ]
    }
   ],
   "source": [
    "with open('naive_bayes_model.pkl', 'wb') as f:\n",
    "    pickle.dump(nb_model, f)\n",
    "\n",
    "with open('logistic_regression_model.pkl', 'wb') as f:\n",
    "    pickle.dump(lr_model, f)\n",
    "\n",
    "with open('tfidf_vectorizer.pkl', 'wb') as f:\n",
    "    pickle.dump(vectorizer, f)\n",
    "\n",
    "print(\"Models and vectorizer saved successfully!\")"
   ]
  },
  {
   "cell_type": "code",
   "execution_count": null,
   "id": "64e20b01-23bc-4eb4-b5a3-ba946e16f327",
   "metadata": {},
   "outputs": [],
   "source": []
  },
  {
   "cell_type": "code",
   "execution_count": null,
   "id": "4b346a13-0d2a-4506-8d18-8b28930ca5a1",
   "metadata": {},
   "outputs": [],
   "source": []
  }
 ],
 "metadata": {
  "kernelspec": {
   "display_name": "Python [conda env:base] *",
   "language": "python",
   "name": "conda-base-py"
  },
  "language_info": {
   "codemirror_mode": {
    "name": "ipython",
    "version": 3
   },
   "file_extension": ".py",
   "mimetype": "text/x-python",
   "name": "python",
   "nbconvert_exporter": "python",
   "pygments_lexer": "ipython3",
   "version": "3.12.7"
  }
 },
 "nbformat": 4,
 "nbformat_minor": 5
}
